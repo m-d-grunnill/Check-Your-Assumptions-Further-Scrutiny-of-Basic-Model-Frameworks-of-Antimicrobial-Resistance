{
 "cells": [
  {
   "cell_type": "code",
   "execution_count": 1,
   "metadata": {},
   "outputs": [],
   "source": [
    "#import necessary packages\n",
    "import matplotlib.pyplot as plt\n",
    "import numpy as np\n",
    "import sympy\n",
    "from IPython.display import Image\n",
    "from tqdm import trange\n",
    "\n",
    "#Set up sympy to display outputs after a latex conversion.\n",
    "from sympy.interactive import printing\n",
    "printing.init_printing(use_latex=True)\n",
    "\n",
    "# Import custom module\n",
    "import SMB_Code_models_equilibria as models_equil"
   ]
  },
  {
   "cell_type": "markdown",
   "metadata": {},
   "source": [
    "# 1 Where does an increase in $\\epsilon$ cause a discontinuous increase in disease burden and what is the increase in disease burden."
   ]
  },
  {
   "cell_type": "code",
   "execution_count": 2,
   "metadata": {},
   "outputs": [],
   "source": [
    "param_values = {'N':1,'epsilon':0.4,'beta_W': 0.04 , 'beta_Z': 0.015,'gamma': 0.01,'gamma_T': 0.1}"
   ]
  },
  {
   "cell_type": "code",
   "execution_count": 3,
   "metadata": {},
   "outputs": [
    {
     "name": "stderr",
     "output_type": "stream",
     "text": [
      "100%|██████████████████████████████████████████████████████████████████████████████| 1001/1001 [01:43<00:00,  9.66it/s]\n"
     ]
    },
    {
     "data": {
      "image/png": "[encoded data removed]",
      "text/plain": [
       "<Figure size 1080x360 with 1 Axes>"
      ]
     },
     "metadata": {
      "needs_background": "light"
     },
     "output_type": "display_data"
    }
   ],
   "source": [
    "epsilon_vals = np. arange (0, 1.001, 0.001)\n",
    "S_endem = []\n",
    "I_W_endem = []\n",
    "I_Z_endem = []\n",
    "\n",
    "for i in trange(len(epsilon_vals)):\n",
    "    param_values['epsilon']=epsilon_vals[i]\n",
    "    prevs = models_equil.replace_inf_end_equil(param_values)\n",
    "    S_endem.append(prevs[0]['S'])\n",
    "    I_W_endem.append(prevs[0]['I_W'])\n",
    "    I_Z_endem.append(prevs[0]['I_Z'])\n",
    "\n",
    "fig = plt.figure(figsize=(15,5))\n",
    "\n",
    "fig.suptitle('Proportion over Time (Days)', \n",
    "             fontsize=20)\n",
    "\n",
    "ax = plt.subplot(111)\n",
    "axes = plt.gca()\n",
    "axes.set_ylim([0,1])\n",
    "\n",
    "ax.plot(epsilon_vals,I_W_endem,color='yellow',label='I_W')\n",
    "ax.plot(epsilon_vals,I_Z_endem,color='tab:red',label='I_Z')\n",
    "ax.plot(epsilon_vals,S_endem,color='green',label='S')\n",
    "chartBox = ax.get_position()\n",
    "ax.legend(loc='upper center', bbox_to_anchor=(1.1, 0.8), shadow=True, ncol=1)\n",
    "plt.show()"
   ]
  },
  {
   "cell_type": "markdown",
   "metadata": {},
   "source": [
    "The jump in disease burden occurs when resistant strain endemic equilibrium becomes stable. So what is the first element of I_Z_endem to be >0."
   ]
  },
  {
   "cell_type": "code",
   "execution_count": 4,
   "metadata": {},
   "outputs": [
    {
     "data": {
      "text/plain": [
       "(array([ 278,  279,  280,  281,  282,  283,  284,  285,  286,  287,  288,\n",
       "         289,  290,  291,  292,  293,  294,  295,  296,  297,  298,  299,\n",
       "         300,  301,  302,  303,  304,  305,  306,  307,  308,  309,  310,\n",
       "         311,  312,  313,  314,  315,  316,  317,  318,  319,  320,  321,\n",
       "         322,  323,  324,  325,  326,  327,  328,  329,  330,  331,  332,\n",
       "         333,  334,  335,  336,  337,  338,  339,  340,  341,  342,  343,\n",
       "         344,  345,  346,  347,  348,  349,  350,  351,  352,  353,  354,\n",
       "         355,  356,  357,  358,  359,  360,  361,  362,  363,  364,  365,\n",
       "         366,  367,  368,  369,  370,  371,  372,  373,  374,  375,  376,\n",
       "         377,  378,  379,  380,  381,  382,  383,  384,  385,  386,  387,\n",
       "         388,  389,  390,  391,  392,  393,  394,  395,  396,  397,  398,\n",
       "         399,  400,  401,  402,  403,  404,  405,  406,  407,  408,  409,\n",
       "         410,  411,  412,  413,  414,  415,  416,  417,  418,  419,  420,\n",
       "         421,  422,  423,  424,  425,  426,  427,  428,  429,  430,  431,\n",
       "         432,  433,  434,  435,  436,  437,  438,  439,  440,  441,  442,\n",
       "         443,  444,  445,  446,  447,  448,  449,  450,  451,  452,  453,\n",
       "         454,  455,  456,  457,  458,  459,  460,  461,  462,  463,  464,\n",
       "         465,  466,  467,  468,  469,  470,  471,  472,  473,  474,  475,\n",
       "         476,  477,  478,  479,  480,  481,  482,  483,  484,  485,  486,\n",
       "         487,  488,  489,  490,  491,  492,  493,  494,  495,  496,  497,\n",
       "         498,  499,  500,  501,  502,  503,  504,  505,  506,  507,  508,\n",
       "         509,  510,  511,  512,  513,  514,  515,  516,  517,  518,  519,\n",
       "         520,  521,  522,  523,  524,  525,  526,  527,  528,  529,  530,\n",
       "         531,  532,  533,  534,  535,  536,  537,  538,  539,  540,  541,\n",
       "         542,  543,  544,  545,  546,  547,  548,  549,  550,  551,  552,\n",
       "         553,  554,  555,  556,  557,  558,  559,  560,  561,  562,  563,\n",
       "         564,  565,  566,  567,  568,  569,  570,  571,  572,  573,  574,\n",
       "         575,  576,  577,  578,  579,  580,  581,  582,  583,  584,  585,\n",
       "         586,  587,  588,  589,  590,  591,  592,  593,  594,  595,  596,\n",
       "         597,  598,  599,  600,  601,  602,  603,  604,  605,  606,  607,\n",
       "         608,  609,  610,  611,  612,  613,  614,  615,  616,  617,  618,\n",
       "         619,  620,  621,  622,  623,  624,  625,  626,  627,  628,  629,\n",
       "         630,  631,  632,  633,  634,  635,  636,  637,  638,  639,  640,\n",
       "         641,  642,  643,  644,  645,  646,  647,  648,  649,  650,  651,\n",
       "         652,  653,  654,  655,  656,  657,  658,  659,  660,  661,  662,\n",
       "         663,  664,  665,  666,  667,  668,  669,  670,  671,  672,  673,\n",
       "         674,  675,  676,  677,  678,  679,  680,  681,  682,  683,  684,\n",
       "         685,  686,  687,  688,  689,  690,  691,  692,  693,  694,  695,\n",
       "         696,  697,  698,  699,  700,  701,  702,  703,  704,  705,  706,\n",
       "         707,  708,  709,  710,  711,  712,  713,  714,  715,  716,  717,\n",
       "         718,  719,  720,  721,  722,  723,  724,  725,  726,  727,  728,\n",
       "         729,  730,  731,  732,  733,  734,  735,  736,  737,  738,  739,\n",
       "         740,  741,  742,  743,  744,  745,  746,  747,  748,  749,  750,\n",
       "         751,  752,  753,  754,  755,  756,  757,  758,  759,  760,  761,\n",
       "         762,  763,  764,  765,  766,  767,  768,  769,  770,  771,  772,\n",
       "         773,  774,  775,  776,  777,  778,  779,  780,  781,  782,  783,\n",
       "         784,  785,  786,  787,  788,  789,  790,  791,  792,  793,  794,\n",
       "         795,  796,  797,  798,  799,  800,  801,  802,  803,  804,  805,\n",
       "         806,  807,  808,  809,  810,  811,  812,  813,  814,  815,  816,\n",
       "         817,  818,  819,  820,  821,  822,  823,  824,  825,  826,  827,\n",
       "         828,  829,  830,  831,  832,  833,  834,  835,  836,  837,  838,\n",
       "         839,  840,  841,  842,  843,  844,  845,  846,  847,  848,  849,\n",
       "         850,  851,  852,  853,  854,  855,  856,  857,  858,  859,  860,\n",
       "         861,  862,  863,  864,  865,  866,  867,  868,  869,  870,  871,\n",
       "         872,  873,  874,  875,  876,  877,  878,  879,  880,  881,  882,\n",
       "         883,  884,  885,  886,  887,  888,  889,  890,  891,  892,  893,\n",
       "         894,  895,  896,  897,  898,  899,  900,  901,  902,  903,  904,\n",
       "         905,  906,  907,  908,  909,  910,  911,  912,  913,  914,  915,\n",
       "         916,  917,  918,  919,  920,  921,  922,  923,  924,  925,  926,\n",
       "         927,  928,  929,  930,  931,  932,  933,  934,  935,  936,  937,\n",
       "         938,  939,  940,  941,  942,  943,  944,  945,  946,  947,  948,\n",
       "         949,  950,  951,  952,  953,  954,  955,  956,  957,  958,  959,\n",
       "         960,  961,  962,  963,  964,  965,  966,  967,  968,  969,  970,\n",
       "         971,  972,  973,  974,  975,  976,  977,  978,  979,  980,  981,\n",
       "         982,  983,  984,  985,  986,  987,  988,  989,  990,  991,  992,\n",
       "         993,  994,  995,  996,  997,  998,  999, 1000], dtype=int64),)"
      ]
     },
     "execution_count": 4,
     "metadata": {},
     "output_type": "execute_result"
    }
   ],
   "source": [
    "I_Z_endem = np.array(I_Z_endem)\n",
    "I_Z_endem\n",
    "\n",
    "np.where(I_Z_endem>0)"
   ]
  },
  {
   "cell_type": "markdown",
   "metadata": {},
   "source": [
    "The values of $\\epsilon$, $S$, $I_W$ and $I_Z$ at that point are equal to:"
   ]
  },
  {
   "cell_type": "code",
   "execution_count": 5,
   "metadata": {},
   "outputs": [
    {
     "data": {
      "image/png": "[encoded data removed]",
      "text/latex": [
       "$\\displaystyle 0.278$"
      ],
      "text/plain": [
       "0.278"
      ]
     },
     "metadata": {},
     "output_type": "display_data"
    },
    {
     "data": {
      "image/png": "[encoded data removed]",
      "text/latex": [
       "$\\displaystyle 0.666666666666667$"
      ],
      "text/plain": [
       "0.666666666666667"
      ]
     },
     "metadata": {},
     "output_type": "display_data"
    },
    {
     "data": {
      "image/png": "[encoded data removed]",
      "text/latex": [
       "$\\displaystyle 0$"
      ],
      "text/plain": [
       "0"
      ]
     },
     "metadata": {},
     "output_type": "display_data"
    },
    {
     "data": {
      "image/png": "[encoded data removed]",
      "text/latex": [
       "$\\displaystyle 0.333333333333333$"
      ],
      "text/plain": [
       "0.333333333333333"
      ]
     },
     "metadata": {},
     "output_type": "display_data"
    }
   ],
   "source": [
    "display(epsilon_vals[278],S_endem[278],I_W_endem[278],I_Z_endem[278])"
   ]
  },
  {
   "cell_type": "markdown",
   "metadata": {},
   "source": [
    "Just before that point the values of $\\epsilon$, $S$, $I_W$ and $I_Z$ are equal to:"
   ]
  },
  {
   "cell_type": "code",
   "execution_count": 6,
   "metadata": {},
   "outputs": [
    {
     "data": {
      "image/png": "[encoded data removed]",
      "text/latex": [
       "$\\displaystyle 0.277$"
      ],
      "text/plain": [
       "0.277"
      ]
     },
     "metadata": {},
     "output_type": "display_data"
    },
    {
     "data": {
      "image/png": "[encoded data removed]",
      "text/latex": [
       "$\\displaystyle 0.87325$"
      ],
      "text/plain": [
       "0.873250000000000"
      ]
     },
     "metadata": {},
     "output_type": "display_data"
    },
    {
     "data": {
      "image/png": "[encoded data removed]",
      "text/latex": [
       "$\\displaystyle 0.12675$"
      ],
      "text/plain": [
       "0.126750000000000"
      ]
     },
     "metadata": {},
     "output_type": "display_data"
    },
    {
     "data": {
      "image/png": "[encoded data removed]",
      "text/latex": [
       "$\\displaystyle 0$"
      ],
      "text/plain": [
       "0"
      ]
     },
     "metadata": {},
     "output_type": "display_data"
    }
   ],
   "source": [
    "display(epsilon_vals[277],S_endem[277],I_W_endem[277],I_Z_endem[277])"
   ]
  },
  {
   "cell_type": "markdown",
   "metadata": {},
   "source": [
    "Meaning the jump is disease burden is:"
   ]
  },
  {
   "cell_type": "code",
   "execution_count": 7,
   "metadata": {},
   "outputs": [
    {
     "data": {
      "image/png": "[encoded data removed]",
      "text/latex": [
       "$\\displaystyle 0.206583333333333$"
      ],
      "text/plain": [
       "0.206583333333333"
      ]
     },
     "execution_count": 7,
     "metadata": {},
     "output_type": "execute_result"
    }
   ],
   "source": [
    "S_endem[277]-S_endem[278]"
   ]
  },
  {
   "cell_type": "markdown",
   "metadata": {},
   "source": [
    "## 2 Deriving equations for $\\epsilon$ at the discontinuous increase of disease burden and the increase in Disease burden."
   ]
  },
  {
   "cell_type": "markdown",
   "metadata": {},
   "source": [
    "Lets look at the disease equalibria, assocaited Jacobian Matrix and Eigen values."
   ]
  },
  {
   "cell_type": "code",
   "execution_count": 8,
   "metadata": {},
   "outputs": [],
   "source": [
    "#Setup Symbols for Sympy\n",
    "N, S, I_W, I_Z, beta_W, beta_Z, gamma, gamma_T, epsilon = sympy.symbols('N S I_W I_Z beta_W beta_Z gamma gamma_T epsilon')\n",
    "\n",
    "Eqn_S = -beta_W/N*I_W*S-beta_Z/N*I_Z*S+gamma*(1-epsilon)*I_W+gamma_T*epsilon*I_W+gamma*I_Z\n",
    "Eqn_I_W = beta_W/N*I_W*S-gamma*(1-epsilon)*I_W-gamma_T*epsilon*I_W+(beta_W/N-beta_Z/N)*I_W*I_Z\n",
    "Eqn_I_Z = beta_Z/N*I_Z*S-gamma*I_Z+(beta_Z/N-beta_W/N)*I_W*I_Z"
   ]
  },
  {
   "cell_type": "code",
   "execution_count": 9,
   "metadata": {},
   "outputs": [
    {
     "data": {
      "image/png": "[encoded data removed]",
      "text/latex": [
       "$\\displaystyle \\left[\\begin{matrix}I_{W} \\epsilon \\gamma_{T} + I_{W} \\gamma \\left(1 - \\epsilon\\right) - \\frac{I_{W} S \\beta_{W}}{N} + I_{Z} \\gamma - \\frac{I_{Z} S \\beta_{Z}}{N}\\\\I_{W} I_{Z} \\left(\\frac{\\beta_{W}}{N} - \\frac{\\beta_{Z}}{N}\\right) - I_{W} \\epsilon \\gamma_{T} - I_{W} \\gamma \\left(1 - \\epsilon\\right) + \\frac{I_{W} S \\beta_{W}}{N}\\\\I_{W} I_{Z} \\left(- \\frac{\\beta_{W}}{N} + \\frac{\\beta_{Z}}{N}\\right) - I_{Z} \\gamma + \\frac{I_{Z} S \\beta_{Z}}{N}\\end{matrix}\\right]$"
      ],
      "text/plain": [
       "⎡                             I_W⋅S⋅β_W           I_Z⋅S⋅β_Z ⎤\n",
       "⎢ I_W⋅ε⋅γ_T + I_W⋅γ⋅(1 - ε) - ───────── + I_Z⋅γ - ───────── ⎥\n",
       "⎢                                 N                   N     ⎥\n",
       "⎢                                                           ⎥\n",
       "⎢        ⎛β_W   β_Z⎞                               I_W⋅S⋅β_W⎥\n",
       "⎢I_W⋅I_Z⋅⎜─── - ───⎟ - I_W⋅ε⋅γ_T - I_W⋅γ⋅(1 - ε) + ─────────⎥\n",
       "⎢        ⎝ N     N ⎠                                   N    ⎥\n",
       "⎢                                                           ⎥\n",
       "⎢                 ⎛  β_W   β_Z⎞           I_Z⋅S⋅β_Z         ⎥\n",
       "⎢         I_W⋅I_Z⋅⎜- ─── + ───⎟ - I_Z⋅γ + ─────────         ⎥\n",
       "⎣                 ⎝   N     N ⎠               N             ⎦"
      ]
     },
     "execution_count": 9,
     "metadata": {},
     "output_type": "execute_result"
    }
   ],
   "source": [
    "ODEs = sympy.Matrix([Eqn_S,Eqn_I_W,Eqn_I_Z])\n",
    "ODEs"
   ]
  },
  {
   "cell_type": "code",
   "execution_count": 10,
   "metadata": {},
   "outputs": [
    {
     "data": {
      "image/png": "[encoded data removed]",
      "text/latex": [
       "$\\displaystyle \\left[ \\left( S, \\  0, \\  0\\right), \\  \\left( \\frac{I_{W} \\beta_{W} - I_{W} \\beta_{Z} + N \\gamma}{\\beta_{Z}}, \\  I_{W}, \\  \\frac{- I_{W} \\beta_{W}^{2} + I_{W} \\beta_{W} \\beta_{Z} - N \\beta_{W} \\gamma - N \\beta_{Z} \\epsilon \\gamma + N \\beta_{Z} \\epsilon \\gamma_{T} + N \\beta_{Z} \\gamma}{\\beta_{Z} \\left(\\beta_{W} - \\beta_{Z}\\right)}\\right), \\  \\left( \\frac{N \\left(- \\epsilon \\gamma + \\epsilon \\gamma_{T} + \\gamma\\right)}{\\beta_{W}}, \\  I_{W}, \\  0\\right), \\  \\left( \\frac{N \\gamma}{\\beta_{Z}}, \\  0, \\  I_{Z}\\right)\\right]$"
      ],
      "text/plain": [
       "⎡           ⎛                                       2                         \n",
       "⎢           ⎜I_W⋅β_W - I_W⋅β_Z + N⋅γ       - I_W⋅β_W  + I_W⋅β_W⋅β_Z - N⋅β_W⋅γ \n",
       "⎢(S, 0, 0), ⎜───────────────────────, I_W, ───────────────────────────────────\n",
       "⎣           ⎝          β_Z                                            β_Z⋅(β_W\n",
       "\n",
       "                                   ⎞                                          \n",
       "- N⋅β_Z⋅ε⋅γ + N⋅β_Z⋅ε⋅γ_T + N⋅β_Z⋅γ⎟  ⎛N⋅(-ε⋅γ + ε⋅γ_T + γ)        ⎞  ⎛N⋅γ    \n",
       "───────────────────────────────────⎟, ⎜────────────────────, I_W, 0⎟, ⎜───, 0,\n",
       " - β_Z)                            ⎠  ⎝        β_W                 ⎠  ⎝β_Z    \n",
       "\n",
       "     ⎤\n",
       "    ⎞⎥\n",
       " I_Z⎟⎥\n",
       "    ⎠⎦"
      ]
     },
     "execution_count": 10,
     "metadata": {},
     "output_type": "execute_result"
    }
   ],
   "source": [
    "equilibria = sympy.solve(ODEs,[S, I_W, I_Z])\n",
    "equilibria"
   ]
  },
  {
   "cell_type": "code",
   "execution_count": 11,
   "metadata": {},
   "outputs": [
    {
     "data": {
      "image/png": "[encoded data removed]",
      "text/latex": [
       "$\\displaystyle \\left[ \\left( \\frac{N \\left(- \\epsilon \\gamma + \\epsilon \\gamma_{T} + \\gamma\\right)}{\\beta_{W}}, \\  I_{W}, \\  0\\right), \\  \\left( \\frac{N \\gamma}{\\beta_{Z}}, \\  0, \\  I_{Z}\\right)\\right]$"
      ],
      "text/plain": [
       "⎡⎛N⋅(-ε⋅γ + ε⋅γ_T + γ)        ⎞  ⎛N⋅γ        ⎞⎤\n",
       "⎢⎜────────────────────, I_W, 0⎟, ⎜───, 0, I_Z⎟⎥\n",
       "⎣⎝        β_W                 ⎠  ⎝β_Z        ⎠⎦"
      ]
     },
     "execution_count": 11,
     "metadata": {},
     "output_type": "execute_result"
    }
   ],
   "source": [
    "endem_equil = equilibria[-2:]\n",
    "endem_equil"
   ]
  },
  {
   "cell_type": "code",
   "execution_count": 12,
   "metadata": {},
   "outputs": [
    {
     "data": {
      "image/png": "[encoded data removed]",
      "text/latex": [
       "$\\displaystyle N - \\frac{N \\left(- \\epsilon \\gamma + \\epsilon \\gamma_{T} + \\gamma\\right)}{\\beta_{W}}$"
      ],
      "text/plain": [
       "    N⋅(-ε⋅γ + ε⋅γ_T + γ)\n",
       "N - ────────────────────\n",
       "            β_W         "
      ]
     },
     "metadata": {},
     "output_type": "display_data"
    },
    {
     "data": {
      "image/png": "[encoded data removed]",
      "text/latex": [
       "$\\displaystyle N - \\frac{N \\gamma}{\\beta_{Z}}$"
      ],
      "text/plain": [
       "    N⋅γ\n",
       "N - ───\n",
       "    β_Z"
      ]
     },
     "metadata": {},
     "output_type": "display_data"
    }
   ],
   "source": [
    "I_W_equil = N-endem_equil[0][0]\n",
    "I_Z_equil = N-endem_equil[1][0]\n",
    "display(I_W_equil,I_Z_equil)"
   ]
  },
  {
   "cell_type": "code",
   "execution_count": 13,
   "metadata": {},
   "outputs": [
    {
     "data": {
      "image/png": "[encoded data removed]",
      "text/latex": [
       "$\\displaystyle \\left[\\begin{matrix}- \\frac{I_{W} \\beta_{W}}{N} - \\frac{I_{Z} \\beta_{Z}}{N} & \\epsilon \\gamma_{T} + \\gamma \\left(1 - \\epsilon\\right) - \\frac{S \\beta_{W}}{N} & \\gamma - \\frac{S \\beta_{Z}}{N}\\\\\\frac{I_{W} \\beta_{W}}{N} & I_{Z} \\left(\\frac{\\beta_{W}}{N} - \\frac{\\beta_{Z}}{N}\\right) - \\epsilon \\gamma_{T} - \\gamma \\left(1 - \\epsilon\\right) + \\frac{S \\beta_{W}}{N} & I_{W} \\left(\\frac{\\beta_{W}}{N} - \\frac{\\beta_{Z}}{N}\\right)\\\\\\frac{I_{Z} \\beta_{Z}}{N} & I_{Z} \\left(- \\frac{\\beta_{W}}{N} + \\frac{\\beta_{Z}}{N}\\right) & I_{W} \\left(- \\frac{\\beta_{W}}{N} + \\frac{\\beta_{Z}}{N}\\right) - \\gamma + \\frac{S \\beta_{Z}}{N}\\end{matrix}\\right]$"
      ],
      "text/plain": [
       "⎡  I_W⋅β_W   I_Z⋅β_Z                               S⋅β_W                      \n",
       "⎢- ─────── - ───────           ε⋅γ_T + γ⋅(1 - ε) - ─────                     γ\n",
       "⎢     N         N                                    N                        \n",
       "⎢                                                                             \n",
       "⎢      I_W⋅β_W            ⎛β_W   β_Z⎞                       S⋅β_W             \n",
       "⎢      ───────        I_Z⋅⎜─── - ───⎟ - ε⋅γ_T - γ⋅(1 - ε) + ─────         I_W⋅\n",
       "⎢         N               ⎝ N     N ⎠                         N               \n",
       "⎢                                                                             \n",
       "⎢      I_Z⋅β_Z                         ⎛  β_W   β_Z⎞                   ⎛  β_W \n",
       "⎢      ───────                     I_Z⋅⎜- ─── + ───⎟               I_W⋅⎜- ─── \n",
       "⎣         N                            ⎝   N     N ⎠                   ⎝   N  \n",
       "\n",
       "   S⋅β_Z          ⎤\n",
       " - ─────          ⎥\n",
       "     N            ⎥\n",
       "                  ⎥\n",
       "⎛β_W   β_Z⎞       ⎥\n",
       "⎜─── - ───⎟       ⎥\n",
       "⎝ N     N ⎠       ⎥\n",
       "                  ⎥\n",
       "  β_Z⎞       S⋅β_Z⎥\n",
       "+ ───⎟ - γ + ─────⎥\n",
       "   N ⎠         N  ⎦"
      ]
     },
     "execution_count": 13,
     "metadata": {},
     "output_type": "execute_result"
    }
   ],
   "source": [
    "J_of_ODEs = ODEs.jacobian(X=[S,I_W,I_Z])\n",
    "J_of_ODEs"
   ]
  },
  {
   "cell_type": "markdown",
   "metadata": {},
   "source": [
    "Substitute the 2nd non-disease free equilibrium (non-DFE) into the Jacobian matrix and determine Eigen values."
   ]
  },
  {
   "cell_type": "code",
   "execution_count": 14,
   "metadata": {},
   "outputs": [
    {
     "data": {
      "image/png": "[encoded data removed]",
      "text/latex": [
       "$\\displaystyle \\left[ \\frac{I_{Z} \\beta_{W} \\beta_{Z} - I_{Z} \\beta_{Z}^{2} + N \\beta_{W} \\gamma + N \\beta_{Z} \\epsilon \\gamma - N \\beta_{Z} \\epsilon \\gamma_{T} - N \\beta_{Z} \\gamma}{N \\beta_{Z}}, \\  - \\frac{I_{Z} \\beta_{Z}}{N}, \\  0\\right]$"
      ],
      "text/plain": [
       "⎡                     2                                                       \n",
       "⎢I_Z⋅β_W⋅β_Z - I_Z⋅β_Z  + N⋅β_W⋅γ + N⋅β_Z⋅ε⋅γ - N⋅β_Z⋅ε⋅γ_T - N⋅β_Z⋅γ  -I_Z⋅β_\n",
       "⎢────────────────────────────────────────────────────────────────────, ───────\n",
       "⎣                               N⋅β_Z                                      N  \n",
       "\n",
       "     ⎤\n",
       "Z    ⎥\n",
       "──, 0⎥\n",
       "     ⎦"
      ]
     },
     "execution_count": 14,
     "metadata": {},
     "output_type": "execute_result"
    }
   ],
   "source": [
    "non_DFE_2 = {'S':equilibria[3][0],'I_W':equilibria[3][1],'I_Z':equilibria[3][2]}\n",
    "\n",
    "J_of_ODEs_non_DFE_2 = J_of_ODEs.subs(non_DFE_2)\n",
    "J_of_ODEs_non_DFE_2\n",
    "\n",
    "eigs_J_non_DFE_2 = J_of_ODEs_non_DFE_2.eigenvals()\n",
    "# The above code line enters the Eigen values as keys to a dictionary. \n",
    "# It would be more useful to have them as elements in a vector.\n",
    "eigs_J_non_DFE_2 = [k  for  k in  eigs_J_non_DFE_2.keys()]\n",
    "eigs_J_non_DFE_2"
   ]
  },
  {
   "cell_type": "markdown",
   "metadata": {},
   "source": [
    "### 2.1 Deriving equation for $\\epsilon$ at the discontinuous increase of disease burden"
   ]
  },
  {
   "cell_type": "markdown",
   "metadata": {},
   "source": [
    "Model switches over between equilibrium when the 2nd equation in the set of eigen values = 0 so.."
   ]
  },
  {
   "cell_type": "code",
   "execution_count": 15,
   "metadata": {},
   "outputs": [
    {
     "data": {
      "image/png": "[encoded data removed]",
      "text/latex": [
       "$\\displaystyle 0 = \\frac{I_{Z} \\beta_{W} \\beta_{Z} - I_{Z} \\beta_{Z}^{2} + N \\beta_{W} \\gamma + N \\beta_{Z} \\epsilon \\gamma - N \\beta_{Z} \\epsilon \\gamma_{T} - N \\beta_{Z} \\gamma}{N \\beta_{Z}}$"
      ],
      "text/plain": [
       "                         2                                              \n",
       "    I_Z⋅β_W⋅β_Z - I_Z⋅β_Z  + N⋅β_W⋅γ + N⋅β_Z⋅ε⋅γ - N⋅β_Z⋅ε⋅γ_T - N⋅β_Z⋅γ\n",
       "0 = ────────────────────────────────────────────────────────────────────\n",
       "                                   N⋅β_Z                                "
      ]
     },
     "metadata": {},
     "output_type": "display_data"
    }
   ],
   "source": [
    "change_point_v2 = sympy.Eq(0,eigs_J_non_DFE_2[0])\n",
    "display(change_point_v2)"
   ]
  },
  {
   "cell_type": "code",
   "execution_count": 16,
   "metadata": {},
   "outputs": [
    {
     "data": {
      "image/png": "[encoded data removed]",
      "text/latex": [
       "$\\displaystyle \\left[ \\frac{- I_{Z} \\beta_{W} \\beta_{Z} + I_{Z} \\beta_{Z}^{2} - N \\beta_{W} \\gamma + N \\beta_{Z} \\gamma}{N \\beta_{Z} \\left(\\gamma - \\gamma_{T}\\right)}\\right]$"
      ],
      "text/plain": [
       "⎡                      2                    ⎤\n",
       "⎢-I_Z⋅β_W⋅β_Z + I_Z⋅β_Z  - N⋅β_W⋅γ + N⋅β_Z⋅γ⎥\n",
       "⎢───────────────────────────────────────────⎥\n",
       "⎣              N⋅β_Z⋅(γ - γ_T)              ⎦"
      ]
     },
     "execution_count": 16,
     "metadata": {},
     "output_type": "execute_result"
    }
   ],
   "source": [
    "epsilon_at_change_v2 = sympy.solve(change_point_v2,epsilon)\n",
    "epsilon_at_change_v2"
   ]
  },
  {
   "cell_type": "code",
   "execution_count": 17,
   "metadata": {},
   "outputs": [
    {
     "data": {
      "image/png": "[encoded data removed]",
      "text/latex": [
       "$\\displaystyle \\frac{- N \\beta_{W} \\gamma + N \\beta_{Z} \\gamma - \\beta_{W} \\beta_{Z} \\left(N - \\frac{N \\gamma}{\\beta_{Z}}\\right) + \\beta_{Z}^{2} \\left(N - \\frac{N \\gamma}{\\beta_{Z}}\\right)}{N \\beta_{Z} \\left(\\gamma - \\gamma_{T}\\right)}$"
      ],
      "text/plain": [
       "                             ⎛    N⋅γ⎞      2 ⎛    N⋅γ⎞\n",
       "-N⋅β_W⋅γ + N⋅β_Z⋅γ - β_W⋅β_Z⋅⎜N - ───⎟ + β_Z ⋅⎜N - ───⎟\n",
       "                             ⎝    β_Z⎠        ⎝    β_Z⎠\n",
       "───────────────────────────────────────────────────────\n",
       "                    N⋅β_Z⋅(γ - γ_T)                    "
      ]
     },
     "execution_count": 17,
     "metadata": {},
     "output_type": "execute_result"
    }
   ],
   "source": [
    "epsilon_at_change_v2=epsilon_at_change_v2[0]\n",
    "epsilon_at_change_v2 = epsilon_at_change_v2.subs(I_Z,I_Z_equil)\n",
    "epsilon_at_change_v2"
   ]
  },
  {
   "cell_type": "code",
   "execution_count": 18,
   "metadata": {},
   "outputs": [
    {
     "data": {
      "image/png": "[encoded data removed]",
      "text/latex": [
       "$\\displaystyle 0.277777777777778$"
      ],
      "text/plain": [
       "0.277777777777778"
      ]
     },
     "execution_count": 18,
     "metadata": {},
     "output_type": "execute_result"
    }
   ],
   "source": [
    "epsilon_at_change_v2.subs(param_values)"
   ]
  },
  {
   "cell_type": "markdown",
   "metadata": {},
   "source": [
    "Lets check this is the correct value"
   ]
  },
  {
   "cell_type": "code",
   "execution_count": 19,
   "metadata": {},
   "outputs": [
    {
     "data": {
      "image/png": "[encoded data removed]",
      "text/latex": [
       "$\\displaystyle 0.278$"
      ],
      "text/plain": [
       "0.278"
      ]
     },
     "execution_count": 19,
     "metadata": {},
     "output_type": "execute_result"
    }
   ],
   "source": [
    "epsilon_vals[278]"
   ]
  },
  {
   "cell_type": "code",
   "execution_count": 20,
   "metadata": {},
   "outputs": [
    {
     "data": {
      "text/plain": [
       "{'N': 1,\n",
       " 'epsilon': 0.277777777777778,\n",
       " 'beta_W': 0.04,\n",
       " 'beta_Z': 0.015,\n",
       " 'gamma': 0.01,\n",
       " 'gamma_T': 0.1}"
      ]
     },
     "execution_count": 20,
     "metadata": {},
     "output_type": "execute_result"
    }
   ],
   "source": [
    "param_values['epsilon']=epsilon_at_change_v2.subs(param_values)\n",
    "param_values"
   ]
  },
  {
   "cell_type": "markdown",
   "metadata": {},
   "source": [
    "Increase in disease burden in replacement model is:"
   ]
  },
  {
   "cell_type": "code",
   "execution_count": 21,
   "metadata": {},
   "outputs": [
    {
     "data": {
      "text/plain": [
       "[{'S': 0.875000000000000, 'I_W': 0.125000000000000, 'I_Z': 0}]"
      ]
     },
     "execution_count": 21,
     "metadata": {},
     "output_type": "execute_result"
    }
   ],
   "source": [
    "models_equil.replace_inf_end_equil(param_values)"
   ]
  },
  {
   "cell_type": "markdown",
   "metadata": {},
   "source": [
    "This is indeed the correct value of $\\epsilon$."
   ]
  },
  {
   "cell_type": "markdown",
   "metadata": {},
   "source": [
    "## 2.2 Deriving Equation for the Increase in Disease burden."
   ]
  },
  {
   "cell_type": "code",
   "execution_count": 22,
   "metadata": {},
   "outputs": [
    {
     "data": {
      "image/png": "[encoded data removed]",
      "text/latex": [
       "$\\displaystyle - \\frac{N \\gamma}{\\beta_{Z}} + \\frac{N \\left(\\gamma - \\frac{\\gamma \\left(- N \\beta_{W} \\gamma + N \\beta_{Z} \\gamma - \\beta_{W} \\beta_{Z} \\left(N - \\frac{N \\gamma}{\\beta_{Z}}\\right) + \\beta_{Z}^{2} \\left(N - \\frac{N \\gamma}{\\beta_{Z}}\\right)\\right)}{N \\beta_{Z} \\left(\\gamma - \\gamma_{T}\\right)} + \\frac{\\gamma_{T} \\left(- N \\beta_{W} \\gamma + N \\beta_{Z} \\gamma - \\beta_{W} \\beta_{Z} \\left(N - \\frac{N \\gamma}{\\beta_{Z}}\\right) + \\beta_{Z}^{2} \\left(N - \\frac{N \\gamma}{\\beta_{Z}}\\right)\\right)}{N \\beta_{Z} \\left(\\gamma - \\gamma_{T}\\right)}\\right)}{\\beta_{W}}$"
      ],
      "text/plain": [
       "          ⎛      ⎛                             ⎛    N⋅γ⎞      2 ⎛    N⋅γ⎞⎞    \n",
       "          ⎜    γ⋅⎜-N⋅β_W⋅γ + N⋅β_Z⋅γ - β_W⋅β_Z⋅⎜N - ───⎟ + β_Z ⋅⎜N - ───⎟⎟   γ\n",
       "          ⎜      ⎝                             ⎝    β_Z⎠        ⎝    β_Z⎠⎠    \n",
       "        N⋅⎜γ - ─────────────────────────────────────────────────────────── + ─\n",
       "  N⋅γ     ⎝                          N⋅β_Z⋅(γ - γ_T)                          \n",
       "- ─── + ──────────────────────────────────────────────────────────────────────\n",
       "  β_Z                                                                   β_W   \n",
       "\n",
       "   ⎛                             ⎛    N⋅γ⎞      2 ⎛    N⋅γ⎞⎞⎞\n",
       "_T⋅⎜-N⋅β_W⋅γ + N⋅β_Z⋅γ - β_W⋅β_Z⋅⎜N - ───⎟ + β_Z ⋅⎜N - ───⎟⎟⎟\n",
       "   ⎝                             ⎝    β_Z⎠        ⎝    β_Z⎠⎠⎟\n",
       "────────────────────────────────────────────────────────────⎟\n",
       "                      N⋅β_Z⋅(γ - γ_T)                       ⎠\n",
       "─────────────────────────────────────────────────────────────\n",
       "                                                             "
      ]
     },
     "execution_count": 22,
     "metadata": {},
     "output_type": "execute_result"
    }
   ],
   "source": [
    "inc_burd = I_Z_equil - I_W_equil.subs(epsilon,epsilon_at_change_v2)\n",
    "inc_burd"
   ]
  },
  {
   "cell_type": "code",
   "execution_count": 23,
   "metadata": {},
   "outputs": [
    {
     "data": {
      "image/png": "[encoded data removed]",
      "text/latex": [
       "$\\displaystyle N - \\frac{N \\gamma}{\\beta_{Z}} - \\frac{N \\beta_{Z}}{\\beta_{W}} + \\frac{N \\gamma}{\\beta_{W}}$"
      ],
      "text/plain": [
       "    N⋅γ   N⋅β_Z   N⋅γ\n",
       "N - ─── - ───── + ───\n",
       "    β_Z    β_W    β_W"
      ]
     },
     "execution_count": 23,
     "metadata": {},
     "output_type": "execute_result"
    }
   ],
   "source": [
    "inc_burd=inc_burd.simplify()\n",
    "inc_burd"
   ]
  },
  {
   "cell_type": "code",
   "execution_count": 24,
   "metadata": {},
   "outputs": [
    {
     "data": {
      "image/png": "[encoded data removed]",
      "text/latex": [
       "$\\displaystyle 0.208333333333333$"
      ],
      "text/plain": [
       "0.208333333333333"
      ]
     },
     "execution_count": 24,
     "metadata": {},
     "output_type": "execute_result"
    }
   ],
   "source": [
    "inc_burd.subs(param_values)"
   ]
  },
  {
   "cell_type": "markdown",
   "metadata": {},
   "source": [
    "Lets double check."
   ]
  },
  {
   "cell_type": "code",
   "execution_count": 25,
   "metadata": {},
   "outputs": [
    {
     "data": {
      "image/png": "[encoded data removed]",
      "text/latex": [
       "$\\displaystyle 0.206583333333333$"
      ],
      "text/plain": [
       "0.206583333333333"
      ]
     },
     "execution_count": 25,
     "metadata": {},
     "output_type": "execute_result"
    }
   ],
   "source": [
    "S_endem[277]-S_endem[278]"
   ]
  },
  {
   "cell_type": "markdown",
   "metadata": {},
   "source": [
    "# 3 Checking working with different set of parameters."
   ]
  },
  {
   "cell_type": "code",
   "execution_count": 26,
   "metadata": {},
   "outputs": [
    {
     "name": "stderr",
     "output_type": "stream",
     "text": [
      "100%|██████████████████████████████████████████████████████████████████████████████| 1001/1001 [01:39<00:00, 10.04it/s]\n"
     ]
    },
    {
     "data": {
      "image/png": "[encoded data removed]",
      "text/plain": [
       "<Figure size 1080x360 with 1 Axes>"
      ]
     },
     "metadata": {
      "needs_background": "light"
     },
     "output_type": "display_data"
    }
   ],
   "source": [
    "param_values = {'N':1,'epsilon':0.4,'beta_W': 0.04 , 'beta_Z': 0.03,'gamma': 0.01,'gamma_T': 0.1}\n",
    "\n",
    "epsilon_vals = np. arange (0, 1.001, 0.001)\n",
    "S_endem = []\n",
    "I_W_endem = []\n",
    "I_Z_endem = []\n",
    "\n",
    "for i in trange(len(epsilon_vals)):\n",
    "    param_values['epsilon']=epsilon_vals[i]\n",
    "    prevs = models_equil.replace_inf_end_equil(param_values)\n",
    "    S_endem.append(prevs[0]['S'])\n",
    "    I_W_endem.append(prevs[0]['I_W'])\n",
    "    I_Z_endem.append(prevs[0]['I_Z'])\n",
    "\n",
    "fig = plt.figure(figsize=(15,5))\n",
    "\n",
    "fig.suptitle('Proportion over Time (Days)', \n",
    "             fontsize=20)\n",
    "\n",
    "ax = plt.subplot(111)\n",
    "axes = plt.gca()\n",
    "axes.set_ylim([0,1])\n",
    "\n",
    "ax.plot(epsilon_vals,I_W_endem,color='yellow',label='I_W')\n",
    "ax.plot(epsilon_vals,I_Z_endem,color='tab:red',label='I_Z')\n",
    "ax.plot(epsilon_vals,S_endem,color='tab:green',label='S')\n",
    "chartBox = ax.get_position()\n",
    "ax.legend(loc='upper center', bbox_to_anchor=(1.1, 0.8), shadow=True, ncol=1)\n",
    "plt.show()"
   ]
  },
  {
   "cell_type": "markdown",
   "metadata": {},
   "source": [
    "The jump in disease burden occurs when resistant strain endemic equilibrium becomes stable. So what is the first element of I_Z_endem to be >0."
   ]
  },
  {
   "cell_type": "code",
   "execution_count": 27,
   "metadata": {},
   "outputs": [
    {
     "data": {
      "text/plain": [
       "(array([ 112,  113,  114,  115,  116,  117,  118,  119,  120,  121,  122,\n",
       "         123,  124,  125,  126,  127,  128,  129,  130,  131,  132,  133,\n",
       "         134,  135,  136,  137,  138,  139,  140,  141,  142,  143,  144,\n",
       "         145,  146,  147,  148,  149,  150,  151,  152,  153,  154,  155,\n",
       "         156,  157,  158,  159,  160,  161,  162,  163,  164,  165,  166,\n",
       "         167,  168,  169,  170,  171,  172,  173,  174,  175,  176,  177,\n",
       "         178,  179,  180,  181,  182,  183,  184,  185,  186,  187,  188,\n",
       "         189,  190,  191,  192,  193,  194,  195,  196,  197,  198,  199,\n",
       "         200,  201,  202,  203,  204,  205,  206,  207,  208,  209,  210,\n",
       "         211,  212,  213,  214,  215,  216,  217,  218,  219,  220,  221,\n",
       "         222,  223,  224,  225,  226,  227,  228,  229,  230,  231,  232,\n",
       "         233,  234,  235,  236,  237,  238,  239,  240,  241,  242,  243,\n",
       "         244,  245,  246,  247,  248,  249,  250,  251,  252,  253,  254,\n",
       "         255,  256,  257,  258,  259,  260,  261,  262,  263,  264,  265,\n",
       "         266,  267,  268,  269,  270,  271,  272,  273,  274,  275,  276,\n",
       "         277,  278,  279,  280,  281,  282,  283,  284,  285,  286,  287,\n",
       "         288,  289,  290,  291,  292,  293,  294,  295,  296,  297,  298,\n",
       "         299,  300,  301,  302,  303,  304,  305,  306,  307,  308,  309,\n",
       "         310,  311,  312,  313,  314,  315,  316,  317,  318,  319,  320,\n",
       "         321,  322,  323,  324,  325,  326,  327,  328,  329,  330,  331,\n",
       "         332,  333,  334,  335,  336,  337,  338,  339,  340,  341,  342,\n",
       "         343,  344,  345,  346,  347,  348,  349,  350,  351,  352,  353,\n",
       "         354,  355,  356,  357,  358,  359,  360,  361,  362,  363,  364,\n",
       "         365,  366,  367,  368,  369,  370,  371,  372,  373,  374,  375,\n",
       "         376,  377,  378,  379,  380,  381,  382,  383,  384,  385,  386,\n",
       "         387,  388,  389,  390,  391,  392,  393,  394,  395,  396,  397,\n",
       "         398,  399,  400,  401,  402,  403,  404,  405,  406,  407,  408,\n",
       "         409,  410,  411,  412,  413,  414,  415,  416,  417,  418,  419,\n",
       "         420,  421,  422,  423,  424,  425,  426,  427,  428,  429,  430,\n",
       "         431,  432,  433,  434,  435,  436,  437,  438,  439,  440,  441,\n",
       "         442,  443,  444,  445,  446,  447,  448,  449,  450,  451,  452,\n",
       "         453,  454,  455,  456,  457,  458,  459,  460,  461,  462,  463,\n",
       "         464,  465,  466,  467,  468,  469,  470,  471,  472,  473,  474,\n",
       "         475,  476,  477,  478,  479,  480,  481,  482,  483,  484,  485,\n",
       "         486,  487,  488,  489,  490,  491,  492,  493,  494,  495,  496,\n",
       "         497,  498,  499,  500,  501,  502,  503,  504,  505,  506,  507,\n",
       "         508,  509,  510,  511,  512,  513,  514,  515,  516,  517,  518,\n",
       "         519,  520,  521,  522,  523,  524,  525,  526,  527,  528,  529,\n",
       "         530,  531,  532,  533,  534,  535,  536,  537,  538,  539,  540,\n",
       "         541,  542,  543,  544,  545,  546,  547,  548,  549,  550,  551,\n",
       "         552,  553,  554,  555,  556,  557,  558,  559,  560,  561,  562,\n",
       "         563,  564,  565,  566,  567,  568,  569,  570,  571,  572,  573,\n",
       "         574,  575,  576,  577,  578,  579,  580,  581,  582,  583,  584,\n",
       "         585,  586,  587,  588,  589,  590,  591,  592,  593,  594,  595,\n",
       "         596,  597,  598,  599,  600,  601,  602,  603,  604,  605,  606,\n",
       "         607,  608,  609,  610,  611,  612,  613,  614,  615,  616,  617,\n",
       "         618,  619,  620,  621,  622,  623,  624,  625,  626,  627,  628,\n",
       "         629,  630,  631,  632,  633,  634,  635,  636,  637,  638,  639,\n",
       "         640,  641,  642,  643,  644,  645,  646,  647,  648,  649,  650,\n",
       "         651,  652,  653,  654,  655,  656,  657,  658,  659,  660,  661,\n",
       "         662,  663,  664,  665,  666,  667,  668,  669,  670,  671,  672,\n",
       "         673,  674,  675,  676,  677,  678,  679,  680,  681,  682,  683,\n",
       "         684,  685,  686,  687,  688,  689,  690,  691,  692,  693,  694,\n",
       "         695,  696,  697,  698,  699,  700,  701,  702,  703,  704,  705,\n",
       "         706,  707,  708,  709,  710,  711,  712,  713,  714,  715,  716,\n",
       "         717,  718,  719,  720,  721,  722,  723,  724,  725,  726,  727,\n",
       "         728,  729,  730,  731,  732,  733,  734,  735,  736,  737,  738,\n",
       "         739,  740,  741,  742,  743,  744,  745,  746,  747,  748,  749,\n",
       "         750,  751,  752,  753,  754,  755,  756,  757,  758,  759,  760,\n",
       "         761,  762,  763,  764,  765,  766,  767,  768,  769,  770,  771,\n",
       "         772,  773,  774,  775,  776,  777,  778,  779,  780,  781,  782,\n",
       "         783,  784,  785,  786,  787,  788,  789,  790,  791,  792,  793,\n",
       "         794,  795,  796,  797,  798,  799,  800,  801,  802,  803,  804,\n",
       "         805,  806,  807,  808,  809,  810,  811,  812,  813,  814,  815,\n",
       "         816,  817,  818,  819,  820,  821,  822,  823,  824,  825,  826,\n",
       "         827,  828,  829,  830,  831,  832,  833,  834,  835,  836,  837,\n",
       "         838,  839,  840,  841,  842,  843,  844,  845,  846,  847,  848,\n",
       "         849,  850,  851,  852,  853,  854,  855,  856,  857,  858,  859,\n",
       "         860,  861,  862,  863,  864,  865,  866,  867,  868,  869,  870,\n",
       "         871,  872,  873,  874,  875,  876,  877,  878,  879,  880,  881,\n",
       "         882,  883,  884,  885,  886,  887,  888,  889,  890,  891,  892,\n",
       "         893,  894,  895,  896,  897,  898,  899,  900,  901,  902,  903,\n",
       "         904,  905,  906,  907,  908,  909,  910,  911,  912,  913,  914,\n",
       "         915,  916,  917,  918,  919,  920,  921,  922,  923,  924,  925,\n",
       "         926,  927,  928,  929,  930,  931,  932,  933,  934,  935,  936,\n",
       "         937,  938,  939,  940,  941,  942,  943,  944,  945,  946,  947,\n",
       "         948,  949,  950,  951,  952,  953,  954,  955,  956,  957,  958,\n",
       "         959,  960,  961,  962,  963,  964,  965,  966,  967,  968,  969,\n",
       "         970,  971,  972,  973,  974,  975,  976,  977,  978,  979,  980,\n",
       "         981,  982,  983,  984,  985,  986,  987,  988,  989,  990,  991,\n",
       "         992,  993,  994,  995,  996,  997,  998,  999, 1000], dtype=int64),)"
      ]
     },
     "execution_count": 27,
     "metadata": {},
     "output_type": "execute_result"
    }
   ],
   "source": [
    "I_Z_endem = np.array(I_Z_endem)\n",
    "I_Z_endem\n",
    "\n",
    "np.where(I_Z_endem>0)"
   ]
  },
  {
   "cell_type": "markdown",
   "metadata": {},
   "source": [
    "The values of $\\epsilon$, $S$, $I_W$ and $I_Z$ at that point are equal to:"
   ]
  },
  {
   "cell_type": "code",
   "execution_count": 28,
   "metadata": {},
   "outputs": [
    {
     "data": {
      "image/png": "[encoded data removed]",
      "text/latex": [
       "$\\displaystyle 0.112$"
      ],
      "text/plain": [
       "0.112"
      ]
     },
     "metadata": {},
     "output_type": "display_data"
    },
    {
     "data": {
      "image/png": "[encoded data removed]",
      "text/latex": [
       "$\\displaystyle 0.333333333333333$"
      ],
      "text/plain": [
       "0.333333333333333"
      ]
     },
     "metadata": {},
     "output_type": "display_data"
    },
    {
     "data": {
      "image/png": "[encoded data removed]",
      "text/latex": [
       "$\\displaystyle 0$"
      ],
      "text/plain": [
       "0"
      ]
     },
     "metadata": {},
     "output_type": "display_data"
    },
    {
     "data": {
      "image/png": "[encoded data removed]",
      "text/latex": [
       "$\\displaystyle 0.666666666666667$"
      ],
      "text/plain": [
       "0.666666666666667"
      ]
     },
     "metadata": {},
     "output_type": "display_data"
    }
   ],
   "source": [
    "display(epsilon_vals[112],S_endem[112],I_W_endem[112],I_Z_endem[112])"
   ]
  },
  {
   "cell_type": "markdown",
   "metadata": {},
   "source": [
    "Just before that point the values of $\\epsilon$, $S$, $I_W$ and $I_Z$ are equal to:"
   ]
  },
  {
   "cell_type": "code",
   "execution_count": 29,
   "metadata": {},
   "outputs": [
    {
     "data": {
      "image/png": "[encoded data removed]",
      "text/latex": [
       "$\\displaystyle 0.111$"
      ],
      "text/plain": [
       "0.111"
      ]
     },
     "metadata": {},
     "output_type": "display_data"
    },
    {
     "data": {
      "image/png": "[encoded data removed]",
      "text/latex": [
       "$\\displaystyle 0.49975$"
      ],
      "text/plain": [
       "0.499750000000000"
      ]
     },
     "metadata": {},
     "output_type": "display_data"
    },
    {
     "data": {
      "image/png": "[encoded data removed]",
      "text/latex": [
       "$\\displaystyle 0.50025$"
      ],
      "text/plain": [
       "0.500250000000000"
      ]
     },
     "metadata": {},
     "output_type": "display_data"
    },
    {
     "data": {
      "image/png": "[encoded data removed]",
      "text/latex": [
       "$\\displaystyle 0$"
      ],
      "text/plain": [
       "0"
      ]
     },
     "metadata": {},
     "output_type": "display_data"
    }
   ],
   "source": [
    "display(epsilon_vals[111],S_endem[111],I_W_endem[111],I_Z_endem[111])"
   ]
  },
  {
   "cell_type": "markdown",
   "metadata": {},
   "source": [
    "Meaning the jump is disease burden is:"
   ]
  },
  {
   "cell_type": "code",
   "execution_count": 30,
   "metadata": {},
   "outputs": [
    {
     "data": {
      "image/png": "[encoded data removed]",
      "text/latex": [
       "$\\displaystyle 0.166416666666667$"
      ],
      "text/plain": [
       "0.166416666666667"
      ]
     },
     "execution_count": 30,
     "metadata": {},
     "output_type": "execute_result"
    }
   ],
   "source": [
    "S_endem[111]-S_endem[112]"
   ]
  },
  {
   "cell_type": "markdown",
   "metadata": {},
   "source": [
    "By derived calculation the the jump in deisease burden should occur when $\\epsilon=$"
   ]
  },
  {
   "cell_type": "code",
   "execution_count": 31,
   "metadata": {},
   "outputs": [
    {
     "data": {
      "image/png": "[encoded data removed]",
      "text/latex": [
       "$\\displaystyle 0.111111111111111$"
      ],
      "text/plain": [
       "0.111111111111111"
      ]
     },
     "execution_count": 31,
     "metadata": {},
     "output_type": "execute_result"
    }
   ],
   "source": [
    "epsilon_at_change_v2.subs(param_values)"
   ]
  },
  {
   "cell_type": "markdown",
   "metadata": {},
   "source": [
    "The increase in disease burden should be:"
   ]
  },
  {
   "cell_type": "code",
   "execution_count": 32,
   "metadata": {},
   "outputs": [
    {
     "data": {
      "image/png": "[encoded data removed]",
      "text/latex": [
       "$\\displaystyle 0.166666666666667$"
      ],
      "text/plain": [
       "0.166666666666667"
      ]
     },
     "execution_count": 32,
     "metadata": {},
     "output_type": "execute_result"
    }
   ],
   "source": [
    "inc_burd.subs(param_values)"
   ]
  },
  {
   "cell_type": "markdown",
   "metadata": {},
   "source": [
    "All seems correct, minor differences can be put down to rounding errors and that epsilon was altered in increments of 0.001 when ploting graphs of stable endemic equilria."
   ]
  },
  {
   "cell_type": "markdown",
   "metadata": {},
   "source": [
    "# 4 Plots of cost of antimicrobial resistance (reduction in transmission 1-$\\frac{\\beta_Z}{\\beta_W}$) against discontinuous increase in disease burden as a proportion of the population. (Figure 3)"
   ]
  },
  {
   "cell_type": "code",
   "execution_count": 33,
   "metadata": {},
   "outputs": [],
   "source": [
    "param_values = {'N':1,'beta_W': 0.04 , 'beta_Z': 0.015,'gamma': 0.01,'gamma_T': 0.1}\n",
    "dpi =96 # dpi for this screen is accoding to: https://www.infobyip.com/detectmonitordpi.php"
   ]
  },
  {
   "cell_type": "markdown",
   "metadata": {},
   "source": [
    "Remember the $I_W$ strain's $R_0=\\frac{\\beta_Z}{\\gamma}$. When $\\beta_Z=0.25 \\beta_W=0.01$ and $I_W$ strain's $R_0=1$, therefore we will not plot below $\\beta_Z=0.25\\beta_W=0.01$."
   ]
  },
  {
   "cell_type": "code",
   "execution_count": 34,
   "metadata": {},
   "outputs": [
    {
     "data": {
      "image/png": "[encoded data removed]",
      "text/plain": [
       "<Figure size 652.5x138.75 with 1 Axes>"
      ]
     },
     "metadata": {
      "needs_background": "light"
     },
     "output_type": "display_data"
    }
   ],
   "source": [
    "beta_Z_props = np. arange (int(25), int(101), int(1))\n",
    "beta_Z_props = np.divide(beta_Z_props,100)\n",
    "level_of_treatment = []\n",
    "\n",
    "for prop in beta_Z_props:\n",
    "    param_values['beta_Z']= param_values['beta_W']*prop\n",
    "    epsilon = epsilon_at_change_v2.subs(param_values)\n",
    "    level_of_treatment.append(epsilon)\n",
    "\n",
    "fig_epsilon = plt.figure(figsize=(870/dpi, 185/dpi))\n",
    "\n",
    "ax = plt.subplot(111)\n",
    "axes = plt.gca()\n",
    "\n",
    "ax.plot(np.subtract(1,beta_Z_props),level_of_treatment,color='black')\n",
    "ax.set_xlabel(r'Cost of AMR  (reduction of AMR transmission, $1-\\frac{\\beta_Z}{\\beta_W}$)')\n",
    "ax.set_ylabel('Proportion of Infections\\nReceiving Treatment ($\\epsilon$)\\nat Discontinuity')\n",
    "plt.show()"
   ]
  },
  {
   "cell_type": "code",
   "execution_count": 35,
   "metadata": {},
   "outputs": [],
   "source": [
    "fig_epsilon.savefig('Epsilon at disease jump v AMR to AMS transmission.png', bbox_inches='tight')"
   ]
  },
  {
   "cell_type": "code",
   "execution_count": 36,
   "metadata": {},
   "outputs": [],
   "source": [
    "param_values = {'N':1,'beta_W': 0.04 , 'beta_Z': 0.015,'gamma': 0.01}"
   ]
  },
  {
   "cell_type": "code",
   "execution_count": 37,
   "metadata": {},
   "outputs": [
    {
     "data": {
      "image/png": "[encoded data removed]",
      "text/plain": [
       "<Figure size 652.5x138.75 with 1 Axes>"
      ]
     },
     "metadata": {
      "needs_background": "light"
     },
     "output_type": "display_data"
    }
   ],
   "source": [
    "increases_in_burden = []\n",
    "\n",
    "for prop in beta_Z_props:\n",
    "    param_values['beta_Z']= param_values['beta_W']*prop\n",
    "    increase = inc_burd.subs(param_values)\n",
    "    increases_in_burden.append(increase)\n",
    "    \n",
    "fig_increase_burden = plt.figure(figsize=(870/dpi, 185/dpi))\n",
    "\n",
    "ax = plt.subplot(111)\n",
    "axes = plt.gca()\n",
    "\n",
    "ax.plot(np.subtract(1,beta_Z_props),increases_in_burden,color='black')\n",
    "ax.set_xlabel(r'Cost of AMR  (reduction of AMR transmission, $1-\\frac{\\beta_Z}{\\beta_W}$)')\n",
    "ax.set_ylabel('Increase in Disease Burden\\nat Discontinuity,\\nas a Proportion of Total Population')\n",
    "plt.show()"
   ]
  },
  {
   "cell_type": "code",
   "execution_count": 38,
   "metadata": {},
   "outputs": [],
   "source": [
    "fig_increase_burden.savefig('Increase in disease burden v AMR to AMS transmission.png', bbox_inches='tight')"
   ]
  },
  {
   "cell_type": "code",
   "execution_count": 39,
   "metadata": {},
   "outputs": [
    {
     "data": {
      "text/plain": [
       "65"
      ]
     },
     "execution_count": 39,
     "metadata": {},
     "output_type": "execute_result"
    }
   ],
   "source": [
    "np.where(beta_Z_props==0.9)[0][0]"
   ]
  },
  {
   "cell_type": "code",
   "execution_count": 40,
   "metadata": {},
   "outputs": [
    {
     "data": {
      "image/png": "[encoded data removed]",
      "text/latex": [
       "$\\displaystyle 0.0722222222222221$"
      ],
      "text/plain": [
       "0.0722222222222221"
      ]
     },
     "metadata": {},
     "output_type": "display_data"
    },
    {
     "data": {
      "image/png": "[encoded data removed]",
      "text/latex": [
       "$\\displaystyle 0.0444444444444444$"
      ],
      "text/plain": [
       "0.0444444444444444"
      ]
     },
     "metadata": {},
     "output_type": "display_data"
    }
   ],
   "source": [
    "display(increases_in_burden[np.where(beta_Z_props==0.9)[0][0]],level_of_treatment[np.where(beta_Z_props==0.9)[0][0]])"
   ]
  },
  {
   "cell_type": "code",
   "execution_count": 41,
   "metadata": {},
   "outputs": [
    {
     "data": {
      "image/png": "[encoded data removed]",
      "text/latex": [
       "$\\displaystyle 0.25$"
      ],
      "text/plain": [
       "0.250000000000000"
      ]
     },
     "metadata": {},
     "output_type": "display_data"
    },
    {
     "data": {
      "image/png": "[encoded data removed]",
      "text/latex": [
       "$\\displaystyle 0.222222222222222$"
      ],
      "text/plain": [
       "0.222222222222222"
      ]
     },
     "metadata": {},
     "output_type": "display_data"
    }
   ],
   "source": [
    "display(increases_in_burden[np.where(beta_Z_props==0.5)[0][0]],level_of_treatment[np.where(beta_Z_props==0.5)[0][0]])"
   ]
  },
  {
   "cell_type": "code",
   "execution_count": null,
   "metadata": {},
   "outputs": [],
   "source": []
  }
 ],
 "metadata": {
  "kernelspec": {
   "display_name": "Python 3",
   "language": "python",
   "name": "python3"
  },
  "language_info": {
   "codemirror_mode": {
    "name": "ipython",
    "version": 3
   },
   "file_extension": ".py",
   "mimetype": "text/x-python",
   "name": "python",
   "nbconvert_exporter": "python",
   "pygments_lexer": "ipython3",
   "version": "3.8.8"
  }
 },
 "nbformat": 4,
 "nbformat_minor": 4
}
